{
 "cells": [
  {
   "cell_type": "markdown",
   "metadata": {},
   "source": [
    "## Simulate Ultrasound Image from CT slice example"
   ]
  },
  {
   "cell_type": "code",
   "execution_count": 1,
   "metadata": {},
   "outputs": [],
   "source": [
    "import cv2\n",
    "import time\n",
    "import torch\n",
    "import numpy as np\n",
    "import torch.nn.functional as F\n",
    "\n",
    "from unet.model import UNet_dilation, UNet, AttentionUNet\n",
    "from utils.vis import array2tensor, tensor2array"
   ]
  },
  {
   "cell_type": "markdown",
   "metadata": {},
   "source": [
    "### Make sure GPU is available"
   ]
  },
  {
   "cell_type": "code",
   "execution_count": 2,
   "metadata": {},
   "outputs": [
    {
     "name": "stdout",
     "output_type": "stream",
     "text": [
      "Using device cuda\n"
     ]
    }
   ],
   "source": [
    "device = torch.device('cuda' if torch.cuda.is_available() else 'cpu')\n",
    "print(f\"Using device {device}\")"
   ]
  },
  {
   "cell_type": "markdown",
   "metadata": {},
   "source": [
    "### load pretrained network"
   ]
  },
  {
   "cell_type": "code",
   "execution_count": 39,
   "metadata": {},
   "outputs": [
    {
     "data": {
      "text/plain": [
       "<All keys matched successfully>"
      ]
     },
     "execution_count": 39,
     "metadata": {},
     "output_type": "execute_result"
    }
   ],
   "source": [
    "net = AttentionUNet(n_channels=1, n_classes=1, bilinear=False)\n",
    "net.to(device=device)\n",
    "net.load_state_dict(torch.load('model/ct2us_attention_unet_cur.pth'))\n",
    "# print(net.eval())"
   ]
  },
  {
   "cell_type": "markdown",
   "metadata": {},
   "source": [
    "### Load example CT slice "
   ]
  },
  {
   "cell_type": "code",
   "execution_count": 43,
   "metadata": {},
   "outputs": [
    {
     "name": "stdout",
     "output_type": "stream",
     "text": [
      "(215, 286)\n"
     ]
    }
   ],
   "source": [
    "ct_raw = cv2.imread('../dataset/ct_slices_trans_06-Mar-2024/ct_msk/ctmsk_56.png', cv2.IMREAD_GRAYSCALE)\n",
    "print(ct_raw.shape)\n",
    "ct_raw = cv2.normalize(ct_raw, None, 1, 0, cv2.NORM_MINMAX)"
   ]
  },
  {
   "cell_type": "markdown",
   "metadata": {},
   "source": [
    "### Simulate Ultrasound from CT slice"
   ]
  },
  {
   "cell_type": "code",
   "execution_count": 44,
   "metadata": {},
   "outputs": [
    {
     "name": "stdout",
     "output_type": "stream",
     "text": [
      "input shape: torch.Size([1, 1, 215, 286])\n",
      "prediction shape: torch.Size([1, 1, 215, 286])\n",
      "time elapsed: 0.040 sec\n"
     ]
    },
    {
     "data": {
      "text/plain": [
       "True"
      ]
     },
     "execution_count": 44,
     "metadata": {},
     "output_type": "execute_result"
    }
   ],
   "source": [
    "start = time.perf_counter()\n",
    "\n",
    "ct = array2tensor(ct_raw, device=device)\n",
    "print(f'input shape: {ct.shape}')\n",
    "\n",
    "pred = net(ct)\n",
    "us_sim = tensor2array(pred)*255\n",
    "us_sim \n",
    "\n",
    "print(f'prediction shape: {pred.shape}')\n",
    "print(f'time elapsed: {(time.perf_counter()-start):.3f} sec')  # benchmarking\n",
    "\n",
    "cv2.imwrite('test_us_sim_out.png', us_sim)"
   ]
  }
 ],
 "metadata": {
  "kernelspec": {
   "display_name": "Python 3",
   "language": "python",
   "name": "python3"
  },
  "language_info": {
   "codemirror_mode": {
    "name": "ipython",
    "version": 3
   },
   "file_extension": ".py",
   "mimetype": "text/x-python",
   "name": "python",
   "nbconvert_exporter": "python",
   "pygments_lexer": "ipython3",
   "version": "3.8.10"
  }
 },
 "nbformat": 4,
 "nbformat_minor": 2
}
